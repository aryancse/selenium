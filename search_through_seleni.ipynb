{
 "cells": [
  {
   "cell_type": "code",
   "execution_count": 2,
   "metadata": {},
   "outputs": [],
   "source": [
    "#to search anything on any website\n",
    "#importing importing modules\n",
    "from selenium import webdriver #tu get the browser webdriver\n",
    "from selenium.webdriver.common.keys import Keys #common keys module use to enter some special keys like alt,ctrl etc"
   ]
  },
  {
   "cell_type": "code",
   "execution_count": 7,
   "metadata": {},
   "outputs": [
    {
     "name": "stdout",
     "output_type": "stream",
     "text": [
      "enter any thing to closet\n"
     ]
    }
   ],
   "source": [
    "#this is giving the path of webdriver of the specific browser\n",
    "driver=webdriver.Firefox(executable_path=\"/home/aryan/Downloads/geckofi/geckodriver\")\n",
    "driver.get(\"https://www.python.org/\") #the website on which we have to search\n",
    "\n",
    "assert \"Python\" in driver.title #to check that the title is having Python as their name\n",
    "ex=driver.find_element_by_name('q') # now to find get the search tab by the name (q)\n",
    "#click on the search tab and after clicking right click on the search tab and inspect the element \n",
    "ex.clear() #to remove any pre written word on the tab\n",
    "\n",
    "ex.send_keys(\"pycon\") #now to search what we have to search\n",
    "ex.send_keys(Keys.RETURN) #to search we have to click RETURN key by this\n",
    "assert \"no result found\" not in driver.page_source #if the search not found then output would be this\n",
    "\n",
    "ee=input(\"enter any thing to close\")\n",
    "driver.quit()  #this will close the whole browser\n",
    "#driver.close() #this will close only the tab on which the website is running"
   ]
  },
  {
   "cell_type": "code",
   "execution_count": null,
   "metadata": {},
   "outputs": [],
   "source": []
  }
 ],
 "metadata": {
  "kernelspec": {
   "display_name": "Python 3",
   "language": "python",
   "name": "python3"
  },
  "language_info": {
   "codemirror_mode": {
    "name": "ipython",
    "version": 3
   },
   "file_extension": ".py",
   "mimetype": "text/x-python",
   "name": "python",
   "nbconvert_exporter": "python",
   "pygments_lexer": "ipython3",
   "version": "3.7.3"
  }
 },
 "nbformat": 4,
 "nbformat_minor": 2
}
