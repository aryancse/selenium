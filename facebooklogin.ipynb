{
 "cells": [
  {
   "cell_type": "code",
   "execution_count": 2,
   "metadata": {},
   "outputs": [
    {
     "name": "stdout",
     "output_type": "stream",
     "text": [
      "Enter Email Id:shootout256@gmail.com\n",
      "Enter Password:········\n",
      "Opened facebook\n",
      "Email Id entered\n",
      "Password entered\n",
      "Done\n",
      "Press anything to quit5\n",
      "Finished\n"
     ]
    }
   ],
   "source": [
    "from selenium import webdriver \n",
    "from time import sleep\n",
    "from getpass import getpass \n",
    "\n",
    "usr=input('Enter Email Id:')\n",
    "pwd = getpass('Enter Password:') \n",
    "\n",
    "driver = webdriver.Firefox(executable_path=\"/home/aryan/Downloads/geckofi/geckodriver\") \n",
    "driver.get('https://www.facebook.com/') \n",
    "print (\"Opened facebook\") \n",
    "sleep(1) \n",
    "\n",
    "username_box = driver.find_element_by_id('email') \n",
    "username_box.send_keys(usr) \n",
    "print (\"Email Id entered\") \n",
    "sleep(1) \n",
    "\n",
    "password_box = driver.find_element_by_id('pass') \n",
    "password_box.send_keys(pwd) \n",
    "print (\"Password entered\") \n",
    "\n",
    "login_box = driver.find_element_by_id('loginbutton') \n",
    "login_box.click() \n",
    "\n",
    "print (\"Done\") \n",
    "input('Press anything to quit') \n",
    "driver.quit() \n",
    "print(\"Finished\") \n"
   ]
  },
  {
   "cell_type": "code",
   "execution_count": null,
   "metadata": {},
   "outputs": [],
   "source": []
  }
 ],
 "metadata": {
  "kernelspec": {
   "display_name": "Python 3",
   "language": "python",
   "name": "python3"
  },
  "language_info": {
   "codemirror_mode": {
    "name": "ipython",
    "version": 3
   },
   "file_extension": ".py",
   "mimetype": "text/x-python",
   "name": "python",
   "nbconvert_exporter": "python",
   "pygments_lexer": "ipython3",
   "version": "3.7.3"
  }
 },
 "nbformat": 4,
 "nbformat_minor": 2
}
